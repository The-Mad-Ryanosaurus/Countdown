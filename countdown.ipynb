{
 "cells": [
  {
   "cell_type": "markdown",
   "metadata": {},
   "source": [
    "# **Solving Countdown: A Computational Theory Approach**\n",
    "### Computation Theory\n",
    "---\n",
    "\n",
    "##### Ryan Harte (G00338424)\n",
    "---"
   ]
  },
  {
   "cell_type": "markdown",
   "metadata": {},
   "source": [
    "## **Table of Contents**\n",
    "\n",
    "1. [Introduction](#intro)\n",
    "2. [Countdown - Game Rules](#countdown-game-rules)\n",
    "3. [Theoretical Framework](#theoretical-framework)"
   ]
  },
  {
   "cell_type": "markdown",
   "metadata": {},
   "source": [
    "<a id=\"intro\"></a>\n",
    "## **Introduction** \n",
    "\n",
    "This project is centred around the application of Computational Theory to understand, examine and solve the numbers round of popular TV show, **Countdown**. The primary objective of this project is to demonstrate a deep understanding of computational problems in everyday computing. This will involve leveraging recognized models of computation. designing programs that incorporate various computational paradigms and analyzing the complexity of various algorithms, such as Brute Force, Heuristic and Greedy algorithms. \n",
    "\n",
    "By focusing on the Countdown numbers game, this project aims to bridge the theoretical computational concepts with practical application, showcasing the ability to develop effective solutions to complex problems. \n",
    "\n",
    "#### **Project Objectives**\n",
    "1. **Identifying Complex Computational Problems:** Recognize the challenges presented by the Countdown numbers game as a computational problem.\n",
    "2. **Modeling Computation:** Apply common models of computation to design strategies for solving the Countdown number game.\n",
    "3. **Designing Solutions:** Develop a Python function to solve numbers, capable of finding solutions to the game's numbers round.\n",
    "4. **Analyzing Complexity:** Evaluate the algorithmic complexity of the proposed solution and discuss its efficiency and potential limitations.\n",
    "5. **Practical Application:** Demonstrate the practical application of computational theory concepts through coding and problem solving."
   ]
  },
  {
   "cell_type": "markdown",
   "metadata": {},
   "source": [
    "<a id=\"countdown-game-rules\"></a>\n",
    "## **Countdown**\n",
    "\n",
    "The Countdown numbers game is a segment of the Countdown TV show where contestants are challenged to reach a target number by mathematically combining six numbers together within 30 seconds.\n",
    "\n",
    "<a id=\"game-rules\"></a>\n",
    "\n",
    "#### **Game Rules**\n",
    "1. **Number Selection:** The contestants choose from 6 out of 24 shuffled face-down number tiles, arranged like so\n",
    "   - **Small Numbers:**  Two groups of the digits ranging from 1 to 10. (Totalling 20 tiles).\n",
    "   - **Large Numbers:**  The numbers 25, 50, 75, and 100. (Totalling 4 tiles).\n",
    "2. **Target Number:** A random target number is generated at the start of the round, ranging from 101 to 999 (inclusive).\n",
    "3. **Time Limit:** Contestants have 30 seconds to use any combination of the six numbers to reach the target number.\n",
    "4. **Mathematic Operations:** Only the four basic arithmetic operations are allowed: Addition (+), Subtraction (-), Multiplication (×), and Division (÷).\n",
    "   - **Operation Rules:** Each of the six numbers can be used once, and operations can be repeated. Division must result in a whole number, and subtraction must result in a positive number.\n",
    "\n",
    "#### **Countdown Scoring**\n",
    "1. **Exact Match:** If a contestant creates a function to hit the target number, the score the maximum points for the round (10).\n",
    "2. **Close Match:** If the target number cannot be reached, points are awarded to the contestant(s) who created a function that brings their solution closest to the target number. (points awarded vary on the solution).\n",
    "3. **Tie Match:** If two or more contestants reach the same number target number or achieve the same closest possible solution, they each score the same number of points. (points awarded vary on the solution).\n",
    "4. **No Solution:** If a contestant cannot come close to the target number or uses invalid operations, they score no points for the round.\n",
    "5. **Winner Determination:** The contestant with the highest score at the end of the numbers round is declared the winner."
   ]
  },
  {
   "cell_type": "markdown",
   "metadata": {},
   "source": [
    "<a id=\"theoretical-framework\"></a>\n",
    "\n",
    "## **Theoretical Framework**\n",
    "This section establishes a robust foundation for understanding the computational aspects integral to the Countdown numbers game, exploring the interplay between computational problems in everyday computing, models of computation, and various programming paradigms.\n",
    "\n",
    "#### **Computational Problems in Everyday Computing**\n",
    "\n",
    "<a id=\"computational-problems-in-everyday-computing\"></a>\n",
    "\n",
    "Everyday computational challenges are tasks as simple as deciding the quickest route home based on traffic (GPS systems), to complex decisions like managing financial reports in real-time. These tasks require systematic problem-solving frameworks that computers are particularly good at handling.\n",
    "\n",
    "#### **Relevance to Countdown:** \n",
    "**In the Countdown game, players face a computational challenge:** Using a limited set of numbers and operations to reach a target number. This mirrors real-world scenarios where resources are limited and must be optimally utilized to achieve a goal, leveraging algorithms to find the best solution.\n",
    "\n",
    "#### **Models of Computation**\n",
    "Models of computation are theoretical abstracts that define the rules and guidelines for how data is manipulated within a computational system. Common models include:\n",
    "1. **Finite Automata:** Used primarily for software and hardware design, particularly in applications requiring pattern recognition such as text editors or network protocols.\n",
    "2. **Turing Machines:** A more comprehensive model that describes a theoretical machine capable of simulating any computer algorithm, foundational for understanding what computers can and cannot do.\n",
    "3. **Application to Countdown:** These models help conceptualize the Countdown game as a series of computational steps—selecting numbers, applying operations, and evaluating results—similar to how a Turing machine processes input based on a set of rules.\n",
    "\n",
    "#### **Computational Paradigms**\n",
    "Computational paradigms are approaches or styles of programming that dictate how problems are structured and solved.\n",
    "1. **Procedural Programming:** Focuses on a step-by-step instructional approach, ideal for tasks requiring sequential processing. Useful in Countdown for implementing straightforward algorithms that follow specific operations to reach a target.\n",
    "2. **Functional Programming:** Emphasizes applications of functions without mutating data. In Countdown, this could be used to transform sets of numbers through a series of function applications to achieve the target number, ensuring immutability of data.\n",
    "3. **Object-Oriented Programming:** Based on concepts of \"objects,\" which are data structures encapsulating data fields and methods. For Countdown, this might involve creating an object representing each number with methods to apply arithmetic operations.\n",
    "\n",
    "#### **Potential Use in Solving Countdown:** \n",
    "Each paradigm offers distinct advantages:\n",
    "1. **Procedural:** Provides clear, manageable steps for reaching the target number.\n",
    "2. **Functional:** Ensures no side effects, which is crucial when multiple operations are involved.\n",
    "3. **Object-Oriented:** Enhances code modularity and reusability, allowing for more scalable solutions."
   ]
  },
  {
   "cell_type": "markdown",
   "metadata": {},
   "source": [
    "<a id=\"countdown:-problem-analysis-and-approach\"></a>\n",
    "\n",
    "## **Countdown: Problem Analysis and Approach**\n",
    "This section dives deeper into how we understand the Countdown numbers game, using foundational computational ideas (discussed previously) along with additional ones, to explore how we can practically apply these principles in designing algorithms and solving problems, specifically the Countdown number game problem.\n",
    "\n",
    "#### **Understanding the Game Mechanics**\n",
    "The Countdown numbers game challenges players to use arithmetic operations to achieve a randomly generated target number from a set of six chosen numbers. See [Game Rules](#game-rules) for further information. This mirrors real-world tasks where you have to use limited resources smartly to achieve a goal, similar to what we discussed about computational problems in everyday computing [Computational Problems in Everyday Computing](#computational-problems-in-everyday-computing):\n",
    "\n",
    "- **Using Resources Wisely:** Just like planning a route or managing budgets, in Countdown, you must choose and use your numbers carefully to hit your target."
   ]
  },
  {
   "cell_type": "markdown",
   "metadata": {},
   "source": [
    "<a id=\"rpn\"></a>\n",
    "\n",
    "## **Reverse Polish Notation (RPN)**\n",
    "Reverse Polish Notation (RPN) is a notation scheme for writing mathematical expressions in which each operator follows the number(s) it operates on. This format simplifies computation for computers, eliminating the need for parentheses or adhering to specific rules for the order of operations. [*[1.0]*](#1.0)\n",
    "\n",
    "<a id=\"rpn-applicable-to-countdown\"></a>\n",
    "\n",
    "#### **RPN Applicable to Countdown**\n",
    "Using RPN in Countdown helps streamline the way calculations are processed. In traditional notation, a mathematical operation would be written like (3 + 5) * 2. However, in **RPN**, this expression is written as 3 5 + 2 *. This straight-line processing aligns well with the step-by-step execution that computational tasks often require.\n",
    "\n",
    "**Calculation Efficiency** \n",
    "By adopting RPN, we can enhance the efficiency of calculations in the Countdown game. This notation minimizes the need for managing operation order and brackets. It makes RPN particularly useful for programmatically solving problems where operations need to be applied as soon as possible, such as in real-time applications or complex problem-solving applications. This makes RPN a practical tool in contexts that demand quick and reliable computation strategies, like with solving the Countdown game. \"An RPN calculator can perform parenthetical functions retroactively.\"  [*1.4*](#1.4)\n",
    "\n",
    "\n",
    "\n",
    "\n",
    "\n",
    "\n"
   ]
  },
  {
   "cell_type": "markdown",
   "metadata": {},
   "source": [
    "<a id=\"algorithm-design\"></a>\n",
    "\n",
    "## **Algorithm Design**\n",
    "In this section, we will dive into different ways to solve the Countdown numbers game. Solving such a puzzle can get pretty complex, so we'll look at three main types of algorithms that can help us: \n",
    "1. **Brute Force Algorithms** \n",
    "2. **Heuristic Algorithms**\n",
    "3. **Greedy Algorithms**\n",
    "<br>\n",
    "\n",
    "Each of these has its own way of tackling problems, and we'll explore which one works best for the Countdown game problem. Additionally, we'll discuss how using RPN can make our algorithms simpler and faster. \n",
    "\n",
    "#### **The Brute Force Approach**\n",
    "This approach systematically attempts every possible combination of operations and numbers to find an exact solution. It guarantees that if a solution exists, it will be found. However, this method can be computationally expensive and time-consuming due to the sheer number of combinations it potentially needs to evaluate. This is where RPN comes in handy.\n",
    "\n",
    "#### **The Greedy Approach**\n",
    "Greedy algorithms consistently choose the local optimum at each step of analysis with the goal of finding the global optimal solution. They are simple and fast, making them suitable for problems where making the best immediate choice leads to an acceptable overall solution. However, they may not always provide the best solution or most accurate solution, as they do not consider the bigger picture beyond the current decisions made along each step.\n",
    "\n",
    "#### **The Heuristic Approach**\n",
    "Heuristic algorithms employ educated guesses to find solutions more quickly than brute force. These algorithms do not guarantee the optimal solution but are designed to find a good solution in a reasonable timeframe. They are particularly useful in situations where an approximate solution is sufficient or when the solution space is too large for exhaustive search. While incredibly efficient, these algorithms are not a good approach to take when trying to solve the Countdown game as an approximate solution is not an absolute solution, which is required to win the numbers game round (or coming very close to it)."
   ]
  },
  {
   "cell_type": "markdown",
   "metadata": {},
   "source": [
    "## **Brute Force Algorithms: Justification**\n",
    "The brute force approach is particularly well-suited for the Countdown game for several key reasons:\n",
    "\n",
    "- **Comprehensive Search:** Brute Force algorithms explore every possible combination of numbers and operations. This thoroughness is crucial in a game like Countdown, where finding an exact or the closest possible solution is often necessary to win.\n",
    "- **Accuracy:** As mentioned previously, Brute Force algorithms exhaustively check all potential solutions. The brute force method guarantees the discovery of the best possible solution if it exists. This level of accuracy is an absolute must in solving the Countdown number game, making the Brute Force algorithm the optimal choice for the development of a solution.\n",
    "\n",
    "#### **Heuristic Algorithms and Greedy Algorithms: Limitations**\n",
    "While Heuristic and Greedy algorithms offer speed and efficiency, they come with significant drawbacks for a game like Countdown:\n",
    "- **Heuristic Algorithms:** These may quickly find a good solution, but they often miss the best solution because they rely on rules of thumb rather than a comprehensive search. In a game setting, this could mean failing to find the target number when a solution does indeed exist.\n",
    "- **Greedy Algorithms:**  By always selecting the locally optimal choice, greedy algorithms risk overlooking better solutions that result in a \"global optimum\" solution. This short-sightedness can lead to suboptimal outcomes in complex numerical challenges like those posed by Countdown. [1.3](#1.3)\n",
    "\n",
    "#### **Integrating Reverse Polish Notation**\n",
    "As discussed previously RPN serves to simplify the computational processes of various problems and algorithms in the real world. Integrating it into the below code snippets and code blocks serves to do the same in regard to solving the Countdown problem. \n",
    "<br>\n",
    "<br>\n",
    "RPN simplifies the computational processes in several ways: \n",
    "\n",
    "- **Eliminates Parentheses:** RPN does not require parentheses, which reduces the complexity involved in parsing expressions. This is particularly useful in algorithmic calculations where every efficiency gain is beneficial. In Countdown contestants only have 30 seconds to reach the target number so every second counts for generating a solution quickly.\n",
    "- **Direct Computation:** Since RPN processes operations as soon as they are ready, it aligns perfectly with the way stacks are handled in programming, facilitating faster and more straightforward calculations. Time is of the essence after all.\n",
    "\n",
    "#### **Brute Force Algorithm and Reverse Polish Notation**\n",
    "Integrating RPN into the Brute Force algorithm can greatly streamline the evaluation of numerical expressions, due to the way the expressions are altered as previously seen. [Look here](#rpn-applicable-to-countdown). By converting expressions to RPN, using Brute Force, we can use a simple stack-based mechanism to evaluate them, which is much faster and less error-prone. [*1.2*](#1.2)\n",
    "\n",
    "#### **Greedy Algorithm and Reverse Polish Notation**\n",
    "For the greedy algorithm, RPN enhances decision-making speed by facilitating immediate computation:\n",
    "\n",
    "- **Quick Calculations:** As the greedy algorithm makes decisions based on the current best option, having an RPN setup means these decisions can be computed immediately without recalculating entire expressions. This is crucial for maintaining the algorithm’s efficiency.\n",
    "- **Operational Efficiency:** The use of RPN in a Greedy algorithm ensures that partial results are quickly updated and pushed back on to the stack, ready for the next operation, which helps in rapidly coming to a near-optimal solution.\n",
    "\n"
   ]
  },
  {
   "cell_type": "markdown",
   "metadata": {},
   "source": [
    "## **Brute Force with Reverse Polish Notation**\n",
    "In this section, the Brute Force algorithm using Reverse Polish Notation (RPN) is implemented to solve the Countdown game. The main advantage of using RPN is that it simplifies the evaluation of mathematical expressions by eliminating the need for parentheses (as we previously discussed). This speeds up computation, and below is a break down of how the algorithm converts standard expressions into RPN and how we evaluate these using a stack-based approach.\n"
   ]
  },
  {
   "cell_type": "markdown",
   "metadata": {},
   "source": [
    "#### **Brute Force in Solving Countdown**\n",
    "This section is a discussion on how and why the Brute Force approach is utilized to solve the Countdown numbers game:\n",
    "\n",
    "1. **Generation of All Subsets:** The algorithm considers all possible subsets of the provided numbers. This includes not only using all six numbers but also every combination from only one number up to all six. This step ensures that every possible grouping of numbers is evaluated.\n",
    "2. **Permutations of Each Subset:** For each subset of numbers, the algorithm generates all possible orderings (permutations) of those numbers. This is critical because the order in which numbers are processed in RPN can significantly affect the outcome of the operations.\n",
    "3. **Operator Combinations:** For each ordering of numbers, the algorithm then generates all possible combinations of arithmetic operations (+, -, *, /) that can be used between these numbers. Since each sequence of numbers (from the previous step) requires a specific number of operators (one less than the number of numbers), the algorithm iterates through all combinations of these operators.\n",
    "4. **Evaluation of All Generated RPN Expressions:** Each generated RPN expression is then evaluated. The algorithm checks if the result of this expression matches the target number or if it's the closest result obtained so far.\n",
    "5. **Exhaustive Search for Solutions:** By iterating through all subsets, all permutations of each subset, and all operator combinations for each permutation, the algorithm exhaustively searches through the entire solution. This is what Brute Force algorithms do, they leave no stone unturned and guarantee that if a solution exists, it will be found.\n",
    "   -   By utilizing RPN, it simplifies the mathematical expressions for the algorithm to iterate over making the algorithm more efficient and capable of solving for a solution before the 30 seconds (thus WINNING)."
   ]
  },
  {
   "cell_type": "markdown",
   "metadata": {},
   "source": [
    "#### **Importing Libraries: Permutations, Product, Combinations**\n",
    "- **``itertools``:** The itertools library is particularly valuable for generating combinations and permutations of numbers, which are essential for executing the Brute Force algorithm efficiently. \n",
    "- **``permutations``:** This function from itertools is used to generate all possible orderings of a set of numbers to reach the target number.\n",
    "- **``product``:** This function from itertools is useful for creating cartesian products, which we will use to generate all possible combinations of operators.\n",
    "- **``combinations``:** This function from itertools will help us find all possible combinations of a set of numbers, which lets us use any subset of the provided numbers."
   ]
  },
  {
   "cell_type": "code",
   "execution_count": 15,
   "metadata": {},
   "outputs": [],
   "source": [
    "from itertools import permutations, product, combinations"
   ]
  },
  {
   "cell_type": "markdown",
   "metadata": {},
   "source": [
    "#### **Evaluate Reverse Polish Notation: Function**\n",
    "The below function `evaluate_rpn` evaluates expressions written in RPN. This notation is beneficial because it does not require parentheses to dictate operation order and enhances the efficiency of generating all possible operations to reach the target number (or finding the closest solution to it).\n",
    "<br>\n",
    "<br>\n",
    "In this function, we use a stack to process the RPN expression. Each number is pushed onto the stack, and when an operator is encountered, the appropriate operation is performed on the two most recent stack elements."
   ]
  },
  {
   "cell_type": "code",
   "execution_count": 16,
   "metadata": {},
   "outputs": [],
   "source": [
    "def evaluate_rpn(expression):\n",
    "    \"\"\" Evaluate an RPN expression, avoiding illegal moves and ensuring all divisions yield integers. \"\"\"\n",
    "    stack = []\n",
    "    for token in expression:\n",
    "        if isinstance(token, str) and token in \"+-*/\":  # Check if token is an operator\n",
    "            b = stack.pop()\n",
    "            a = stack.pop()\n",
    "            if token == '+':\n",
    "                stack.append(a + b)\n",
    "            elif token == '-':\n",
    "                stack.append(a - b)\n",
    "            elif token == '*':\n",
    "                stack.append(a * b)\n",
    "            elif token == '/':  # Ensure integer division and avoid division by zero\n",
    "                if b == 0 or a % b != 0:\n",
    "                    return None\n",
    "                stack.append(a // b)\n",
    "        else:\n",
    "            stack.append(token)\n",
    "    return stack[0]"
   ]
  },
  {
   "cell_type": "markdown",
   "metadata": {},
   "source": [
    "#### **Generate Valid RPN Expressions: Function**\n",
    "The `generate_rpn_expressions(numbers)` function is used to generate all valid RPN expressions using a combination of the 6 Countdown numbers and arithmetic operators.\n",
    "<br>\n",
    "This function tries every permutation of the numbers and combines each permutation with every possible sequence of operations to create valid RPN expressions."
   ]
  },
  {
   "cell_type": "code",
   "execution_count": 17,
   "metadata": {},
   "outputs": [],
   "source": [
    "def generate_rpn_expressions(numbers):\n",
    "    \"\"\" Generate valid RPN expressions from number permutations and operator combinations \"\"\"\n",
    "    operators = ['+', '-', '*', '/']\n",
    "    for num_perm in permutations(numbers):\n",
    "        for ops_perm in product(operators, repeat=len(numbers)-1):\n",
    "            expression = []\n",
    "            num_queue = list(num_perm)\n",
    "            ops_queue = list(ops_perm)\n",
    "            \n",
    "            while num_queue:\n",
    "                expression.append(num_queue.pop(0))\n",
    "                while len(expression) > 1 and ops_queue and expression[-1] not in operators:\n",
    "                    expression.append(ops_queue.pop(0))\n",
    "            \n",
    "            if len(expression) == 2 * len(numbers) - 1:\n",
    "                yield expression"
   ]
  },
  {
   "cell_type": "markdown",
   "metadata": {},
   "source": [
    "#### **Find Best Solution: Function**\n",
    "The `find_best_solution` function is used to find the solution to the target number or find the closest solution to the target number by evaluating all generated RPN expressions.\n",
    "<br>\n",
    "This function explores all subsets of the numbers to find the best possible solution. It updates the best solution whenever a closer result to the target is found."
   ]
  },
  {
   "cell_type": "code",
   "execution_count": 18,
   "metadata": {},
   "outputs": [],
   "source": [
    "def find_best_solution(numbers, target):\n",
    "    \"\"\" Find the expression that best approximates the target number \"\"\"\n",
    "    best_diff = float('inf')\n",
    "    best_expr = None\n",
    "    best_result = None  # Variable to hold the best result\n",
    "\n",
    "    for size in range(1, len(numbers) + 1):\n",
    "        for subset in combinations(numbers, size):\n",
    "            for expr in generate_rpn_expressions(subset):\n",
    "                result = evaluate_rpn(expr)\n",
    "                if result is not None:\n",
    "                    diff = abs(result - target)\n",
    "                    if diff < best_diff:\n",
    "                        best_diff = diff\n",
    "                        best_expr = expr\n",
    "                        best_result = result\n",
    "                        if diff == 0:\n",
    "                            return (best_expr, best_result)\n",
    "    return (best_expr, best_result)"
   ]
  },
  {
   "cell_type": "markdown",
   "metadata": {},
   "source": [
    "#### **Brute Force Algorithm Execution and Output Results**\n",
    "The inputs are collected and the execution of our solution-finding function begins. Once finished it then prints the best solution found.\n",
    "<br>\n",
    "<br>\n",
    "If you wish to test the Brute Force solution to ensure the Brute Force algorithm is in fact functional, please change the following variables inside the [ ]:\n",
    "\n",
    "- **``numbers = [ ]``**\n",
    "- **``target = [ ]``**"
   ]
  },
  {
   "cell_type": "code",
   "execution_count": 19,
   "metadata": {},
   "outputs": [
    {
     "name": "stdout",
     "output_type": "stream",
     "text": [
      "Best solution found: 100 3 + 75 * 6 * 50 / 25 + = 952\n"
     ]
    }
   ],
   "source": [
    "# Input\n",
    "numbers = [25, 50, 75, 100, 3, 6]  # Example numbers\n",
    "target = 952  # Example target number\n",
    "\n",
    "# Finding and displaying the best solution\n",
    "best_expr, best_result = find_best_solution(numbers, target)\n",
    "if best_expr:\n",
    "    print(\"Best solution found:\", ' '.join(map(str, best_expr)), \"=\", best_result)\n",
    "else:\n",
    "    print(\"No valid solutions found.\")"
   ]
  },
  {
   "cell_type": "markdown",
   "metadata": {},
   "source": [
    "## **Best Solution Found**\n",
    "\n",
    "For the examples I have chosen: \n",
    "- **``numbers``** = [25, 50, 75, 100, 3, 6]  # Example numbers\n",
    "- **``target``** = 952  # Example target number\n",
    "It is evident that the Brute Force algorithms is highly efficient at solving the Countdown numbers game.\n",
    "<br>\n",
    "This approach ensures that all potential solutions are considered, which is a key requirement for some complex problems where heuristics or optimizations might miss potential solutions.\n",
    "<br>\n",
    "However this approach for other real life applications can be computationally intensive, especially as the number of inputs increases. This is because the number of possible RPN expressions can increase massively and increase load times and potentially use more machine memory. "
   ]
  },
  {
   "cell_type": "markdown",
   "metadata": {},
   "source": [
    "<a id=\"references\"></a>\n",
    "\n",
    "## **References**\n",
    "\n",
    "<a id=\"1.0\"></a>\n",
    "*[1.0]*  - Ian McLoughlin. \"Reverse Polish Notation\". Atlantic Technological University, March 2024. \n",
    "\n",
    "https://ianmcloughlin.github.io/reverse_polish_notation/\n",
    "\n",
    "---\n",
    "<a id=\"1.1\"></a>\n",
    "*[1.1]* - Hemant Pandey; Todd Blanchard and Kevin C, \"What are the advantages and disadvantages of using a brute force algorithm?\", LinkedIn Learning. \n",
    "\n",
    "https://www.linkedin.com/advice/1/what-advantages-disadvantages-using-brute-oruof#:~:text=A%20brute%20force%20algorithm%20is,space%20or%20improve%20the%20efficiency.\n",
    "\n",
    "---\n",
    "<a id=\"1.2\"></a>\n",
    "*[1.2]* - Tim Hargreaves, \"A Polish Approach to Countdown\", Ttested, 2021\n",
    "\n",
    "https://www.ttested.com/polish-countdown/\n",
    "\n",
    "---\n",
    "<a id=\"1.3\"></a>\n",
    "*[1.3]* - Amber Butch, \"What is Greedy Algorithm: Example, Applications, Limitations and More\", simplilearn, 2023\n",
    "\n",
    "https://www.simplilearn.com/tutorials/data-structure-tutorial/greedy-algorithm#:~:text=The%20main%20advantage%20of%20the,of%20finding%20the%20global%20optimum.\n",
    "\n",
    "---\n",
    "<a id=\"1.4\"></a>\n",
    "*[1.4]* - CFI Team, \"Reverse Polish Notation (RPN) A form of calculation\", Corporate Finance Institute (CFI)\n",
    "\n",
    "https://corporatefinanceinstitute.com/resources/data-science/reverse-polish-notation-rpn/#:~:text=The%20RPN%20calculator%20uses%203,become%20burdensome%20for%20longer%20calculations."
   ]
  },
  {
   "cell_type": "markdown",
   "metadata": {},
   "source": []
  }
 ],
 "metadata": {
  "kernelspec": {
   "display_name": "Python 3",
   "language": "python",
   "name": "python3"
  },
  "language_info": {
   "codemirror_mode": {
    "name": "ipython",
    "version": 3
   },
   "file_extension": ".py",
   "mimetype": "text/x-python",
   "name": "python",
   "nbconvert_exporter": "python",
   "pygments_lexer": "ipython3",
   "version": "3.10.4"
  }
 },
 "nbformat": 4,
 "nbformat_minor": 2
}
