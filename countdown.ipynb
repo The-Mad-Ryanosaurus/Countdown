{
 "cells": [
  {
   "cell_type": "markdown",
   "metadata": {},
   "source": [
    "# **Solving Countdown: A Computational Theory Approach**\n",
    "### Computation Theory\n",
    "---\n",
    "\n",
    "##### Ryan Harte (G00338424)\n",
    "---"
   ]
  },
  {
   "cell_type": "markdown",
   "metadata": {},
   "source": [
    "## **Table of Contents**\n",
    "\n",
    "1. [Introduction](#intro)\n",
    "2. [Countdown - Game Rules](#countdown-game-rules)"
   ]
  },
  {
   "cell_type": "markdown",
   "metadata": {},
   "source": [
    "<a id=\"intro\"></a>\n",
    "## **Introduction** \n",
    "\n",
    "This project is centred around the application of Computational Theory to understand, examine and hopefully solve the numbers round of popular TV show, **Countdown**. The primary objective of this project is to demonstrate a deep understanding of computational problems in everyday computing. This will involve leveraging recognized models of computation. designing programs that incorporate various computational paradigms and analyzing the complexity of various algorithms. \n",
    "\n",
    "By focusing on the Countdown numbers game, this project aims to bridge the theoretical computational concepts with practical application, showcasing the ability to develop effective solutions to complex problems. \n",
    "\n",
    "#### **Project Objectives**\n",
    "1. **Identifying Complex Computational Problems:** Recognize the challenges presented by the Countdown numbers game as a computational problem.\n",
    "2. **Modeling Computation:** Apply common models of computation to design strategies for solving the Countdown number game.\n",
    "3. **Designing Solutions:** Develop a Python function to solve numbers, capable of finding solutions to the game's numbers round.\n",
    "4. **Analyzing Complexity:** Evaluate the algorithmic complexity of the proposed solution and discuss its efficiency and potential limitations.\n",
    "5. **Practical Application:** Demonstrate the practical application of computational theory concepts through coding and problem solving."
   ]
  },
  {
   "cell_type": "markdown",
   "metadata": {},
   "source": []
  },
  {
   "cell_type": "markdown",
   "metadata": {},
   "source": []
  }
 ],
 "metadata": {
  "language_info": {
   "name": "python"
  }
 },
 "nbformat": 4,
 "nbformat_minor": 2
}
