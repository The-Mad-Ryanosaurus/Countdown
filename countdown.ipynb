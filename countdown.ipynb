{
 "cells": [
  {
   "cell_type": "markdown",
   "metadata": {},
   "source": [
    "# **Solving Countdown: A Computational Theory Approach**\n",
    "### Computation Theory\n",
    "---\n",
    "\n",
    "##### Ryan Harte (G00338424)\n",
    "---"
   ]
  },
  {
   "cell_type": "markdown",
   "metadata": {},
   "source": [
    "## **Table of Contents**\n",
    "\n",
    "1. [Introduction](#intro)\n",
    "2. [Countdown - Game Rules](#countdown-game-rules)\n",
    "3. [Theoretical Framework](#theoretical-framework)"
   ]
  },
  {
   "cell_type": "markdown",
   "metadata": {},
   "source": [
    "<a id=\"intro\"></a>\n",
    "## **Introduction** \n",
    "\n",
    "This project is centred around the application of Computational Theory to understand, examine and hopefully solve the numbers round of popular TV show, **Countdown**. The primary objective of this project is to demonstrate a deep understanding of computational problems in everyday computing. This will involve leveraging recognized models of computation. designing programs that incorporate various computational paradigms and analyzing the complexity of various algorithms. \n",
    "\n",
    "By focusing on the Countdown numbers game, this project aims to bridge the theoretical computational concepts with practical application, showcasing the ability to develop effective solutions to complex problems. \n",
    "\n",
    "#### **Project Objectives**\n",
    "1. **Identifying Complex Computational Problems:** Recognize the challenges presented by the Countdown numbers game as a computational problem.\n",
    "2. **Modeling Computation:** Apply common models of computation to design strategies for solving the Countdown number game.\n",
    "3. **Designing Solutions:** Develop a Python function to solve numbers, capable of finding solutions to the game's numbers round.\n",
    "4. **Analyzing Complexity:** Evaluate the algorithmic complexity of the proposed solution and discuss its efficiency and potential limitations.\n",
    "5. **Practical Application:** Demonstrate the practical application of computational theory concepts through coding and problem solving."
   ]
  },
  {
   "cell_type": "markdown",
   "metadata": {},
   "source": [
    "<a id=\"countdown-game-rules\"></a>\n",
    "## **Countdown**\n",
    "\n",
    "The Countdown numbers game is a segment of the Countdown TV show where contestants are challenged to reach a target number by mathematically combining six numbers together within 30 seconds.\n",
    "\n",
    "<a id=\"game-rules\"></a>\n",
    "\n",
    "#### **Game Rules**\n",
    "1. **Number Selection:** The contestants choose from 6 out of 24 shuffled face-down number tiles, arranged like so\n",
    "   - **Small Numbers:**  Two groups of the digits ranging from 1 to 10. (Totalling 20 tiles).\n",
    "   - **Large Numbers:**  The numbers 25, 50, 75, and 100. (Totalling 4 tiles).\n",
    "2. **Target Number:** A random target number is generated at the start of the round, ranging from 101 to 999 (inclusive).\n",
    "3. **Time Limit:** Contestants have 30 seconds to use any combination of the six numbers to reach the target number.\n",
    "4. **Mathematic Operations:** Only the four basic arithmetic operations are allowed: Addition (+), Subtraction (-), Multiplication (×), and Division (÷).\n",
    "   - **Operation Rules:** Each of the six numbers can be used once, and operations can be repeated. Division must result in a whole number, and subtraction must result in a positive number.\n",
    "\n",
    "#### **Countdown Scoring**\n",
    "1. **Exact Match:** If a contestant creates a function to hit the target number, the score the maximum points for the round (10).\n",
    "2. **Close Match:** If the target number cannot be reached, points are awarded to the contestant(s) who created a function that brings their solution closest to the target number. (points awarded vary on the solution).\n",
    "3. **Tie Match:** If two or more contestants reach the same number target number or achieve the same closest possible solution, they each score the same number of points. (points awarded vary on the solution).\n",
    "4. **No Solution:** If a contestant cannot come close to the target number or uses invalid operations, they score no points for the round.\n",
    "5. **Winner Determination:** The contestant with the highest score at the end of the numbers round is declared the winner."
   ]
  },
  {
   "cell_type": "markdown",
   "metadata": {},
   "source": [
    "<a id=\"theoretical-framework\"></a>\n",
    "\n",
    "## **Theoretical Framework**\n",
    "This section establishes a robust foundation for understanding the computational aspects integral to the Countdown numbers game, exploring the interplay between computational problems in everyday computing, models of computation, and various programming paradigms.\n",
    "\n",
    "#### **Computational Problems in Everyday Computing**\n",
    "\n",
    "<a id=\"computational-problems-in-everyday-computing\"></a>\n",
    "\n",
    "Everyday computational challenges are tasks as simple as deciding the quickest route home based on traffic (GPS systems), to complex decisions like managing financial reports in real-time. These tasks require systematic problem-solving frameworks that computers are particularly good at handling.\n",
    "\n",
    "#### **Relevance to Countdown:** \n",
    "**In the Countdown game, players face a computational challenge:** Using a limited set of numbers and operations to reach a target number. This mirrors real-world scenarios where resources are limited and must be optimally utilized to achieve a goal, leveraging algorithms to find the best solution.\n",
    "\n",
    "#### **Models of Computation**\n",
    "Models of computation are theoretical abstracts that define the rules and guidelines for how data is manipulated within a computational system. Common models include:\n",
    "1. **Finite Automata:** Used primarily for software and hardware design, particularly in applications requiring pattern recognition such as text editors or network protocols.\n",
    "2. **Turing Machines:** A more comprehensive model that describes a theoretical machine capable of simulating any computer algorithm, foundational for understanding what computers can and cannot do.\n",
    "3. **Application to Countdown:** These models help conceptualize the Countdown game as a series of computational steps—selecting numbers, applying operations, and evaluating results—similar to how a Turing machine processes input based on a set of rules.\n",
    "\n",
    "#### **Computational Paradigms**\n",
    "Computational paradigms are approaches or styles of programming that dictate how problems are structured and solved.\n",
    "1. **Procedural Programming:** Focuses on a step-by-step instructional approach, ideal for tasks requiring sequential processing. Useful in Countdown for implementing straightforward algorithms that follow specific operations to reach a target.\n",
    "2. **Functional Programming:** Emphasizes applications of functions without mutating data. In Countdown, this could be used to transform sets of numbers through a series of function applications to achieve the target number, ensuring immutability of data.\n",
    "3. **Object-Oriented Programming:** Based on concepts of \"objects,\" which are data structures encapsulating data fields and methods. For Countdown, this might involve creating an object representing each number with methods to apply arithmetic operations.\n",
    "\n",
    "#### **Potential Use in Solving Countdown:** \n",
    "Each paradigm offers distinct advantages:\n",
    "1. **Procedural:** Provides clear, manageable steps for reaching the target number.\n",
    "2. **Functional:** Ensures no side effects, which is crucial when multiple operations are involved.\n",
    "3. **Object-Oriented:** Enhances code modularity and reusability, allowing for more scalable solutions."
   ]
  },
  {
   "cell_type": "markdown",
   "metadata": {},
   "source": [
    "<a id=\"countdown:-problem-analysis-and-approach\"></a>\n",
    "\n",
    "## **Countdown: Problem Analysis and Approach**\n",
    "This section dives deeper into how we understand the Countdown numbers game, using foundational computational ideas (discussed previously) along with additional ones, to explore how we can practically apply these principles in designing algorithms and solving problems, specifically the Countdown number game problem.\n",
    "\n",
    "#### **Understanding the Game Mechanics**\n",
    "The Countdown numbers game challenges players to use arithmetic operations to achieve a randomly generated target number from a set of six chosen numbers. See [Game Rules](#game-rules) for further information. This mirrors real-world tasks where you have to use limited resources smartly to achieve a goal, similar to what we discussed about computational problems in everyday computing [Computational Problems in Everyday Computing](#computational-problems-in-everyday-computing):\n",
    "\n",
    "- **Using Resources Wisely:** Just like planning a route or managing budgets, in Countdown, you must choose and use your numbers carefully to hit your target."
   ]
  },
  {
   "cell_type": "markdown",
   "metadata": {},
   "source": [
    "<a id=\"rpn\"></a>\n",
    "\n",
    "## **Reverse Polish Notation (RPN)**\n",
    "Reverse Polish Notation (RPN) is a notation scheme for writing mathematical expressions in which each operator follows the number(s) it operates on. This format simplifies computation for computers, eliminating the need for parentheses or adhering to specific rules for the order of operations. [*[1.0]*](#ian-mcloughlin)\n",
    "\n",
    "#### **RPN Applicable to Countdown**\n",
    "Using RPN in Countdown helps streamline the way calculations are processed. In traditional notation, a mathematical operation would be written like (3 + 5) * 2. However, in **RPN**, this expression is written as 3 5 + 2 *. This straight-line processing aligns well with the step-by-step execution that computational tasks often require.\n",
    "\n",
    "**Calculation Efficiency** \n",
    "By adopting RPN, we can enhance the efficiency of calculations in the Countdown game. This notation minimizes the need for managing operation order and brackets. It makes RPN particularly useful for programmatically solving problems where operations need to be applied as soon as possible, such as in real-time applications or complex problem-solving applications. This makes RPN a practical tool in contexts that demand quick and reliable computation strategies, like with the Countdown game. [dontforgetthis](#dontforgetthis)\n",
    "\n",
    "\n",
    "\n",
    "\n",
    "\n",
    "\n"
   ]
  },
  {
   "cell_type": "markdown",
   "metadata": {},
   "source": [
    "<a id=\"algorithm-design\"></a>\n",
    "\n",
    "## **Algorithm Design**\n",
    "This section focuses on applying the previously discussed computational paradigms and RPN to design and evaluate two primary algorithmic approaches for solving the Countdown game: \n",
    "1. **The Brute Force Approach.**\n",
    "2. **The Greedy Algorithm.**\n",
    "\n",
    "### **The Brute Force Approach**\n",
    "The Brute Force approach involves systematically exploring all possible combinations of the given numbers and operations until the target number is achieved or all possibilities are exhausted.\n",
    "\n",
    "**Integration of RPN:** RPN eliminates the need for managing parentheses and operator precedence, which simplifies the computational logic required to evaluate each combination of numbers and operations.\n",
    "\n",
    "**Proceduarl Programming Paradigm:** This approach fits naturally with procedural programming, where we can structure the algorithm to sequentially generate and evaluate each combination of operations and numbers. Procedural programming provides a clear, step-by-step methodology for iterating over possibilities, making it ideal for implementing a brute-force solution."
   ]
  },
  {
   "cell_type": "code",
   "execution_count": 9,
   "metadata": {},
   "outputs": [],
   "source": [
    "import itertools\n",
    "\n",
    "def brute_force(numbers, target):\n",
    "    \"\"\"\n",
    "    Generate all possible results using the provided numbers and basic arithmetic operations.\n",
    "    Return the calculation that matches the target or the closest possible result, ensuring all results are whole numbers.\n",
    "    \"\"\"\n",
    "    operations = ['+', '-', '*', '/']\n",
    "    closest = None\n",
    "    closest_diff = float('inf')\n",
    "\n",
    "    # Generate all permutations of numbers and operations\n",
    "    for nums in itertools.permutations(numbers):\n",
    "        for ops in itertools.product(operations, repeat=len(numbers)-1):\n",
    "            expression = f\"{nums[0]}\"\n",
    "            valid = True\n",
    "            for num, op in zip(nums[1:], ops):\n",
    "                if op == '/' and (num == 0 or expression.endswith('/') or int(eval(expression + op + str(num))) != eval(expression + op + str(num))):\n",
    "                    valid = False\n",
    "                    break\n",
    "                expression += f\" {op} {num}\"\n",
    "            if not valid:\n",
    "                continue\n",
    "            try:\n",
    "                result = eval(expression)\n",
    "                if result < 0 or result != int(result):\n",
    "                    continue\n",
    "                diff = abs(target - result)\n",
    "                if diff < closest_diff:\n",
    "                    closest = expression\n",
    "                    closest_diff = diff\n",
    "            except ZeroDivisionError:\n",
    "                continue\n",
    "\n",
    "    return closest, closest_diff"
   ]
  },
  {
   "cell_type": "markdown",
   "metadata": {},
   "source": [
    "#### **Brute Force Algorithm Explained**\n",
    "\n",
    "The brute force algorithm in this code tries to find the target number by testing all possible combinations of the given numbers with basic arithmetic operations, in line with Countdown rules. Here's a breakdown of how the code works:\n",
    "\n",
    "#### **Step-by-Step Breakdown:** \n",
    "1. **Importing Libraries:** The code starts by importing the **itertools library**, which helps in creating combinations of numbers and operations.\n",
    "2. **Function Definition:**\n",
    "- **Purpose:** The **brute_force** function is designed to find the formula that comes closest to a target number using the numbers provided.\n",
    "- **Parameters:** \n",
    "    - **numbers:** A list of numbers you can use. \n",
    "    - **target:** The number you're trying to reach with these numbers.\n",
    "3. **Generating Combinations:**\n",
    "- The code uses nested loops to try every possible order of the given numbers **(nums)** and every combination of operations **(ops)** between those numbers.\n",
    "- For each combination, it constructs a mathematical expression.\n",
    "4. **Validating Expressions:**\n",
    "- As it builds each expression, the code checks to make sure the operations are valid. For example, it avoids division by zero and ensures division results in whole numbers, as the Countdown rules dictate.\n",
    "- It skips any expressions that result in negative numbers or non-whole numbers also.\n",
    "5. **Evaluating Expressions:**\n",
    "- Each valid expression is evaluated to see how close the result is to the target number.\n",
    "- If the result of an expression is closer to the target than anything found before, the code updates the closest expression and the smallest difference (closest_diff).\n",
    "6. **Returning the Best Result:**\n",
    "- After checking all possible combinations, the function returns the expression that got closest to the target and the difference from the target."
   ]
  },
  {
   "cell_type": "markdown",
   "metadata": {},
   "source": [
    "#### **Testing the Brute Force Function**\n",
    "\n",
    "The above algorithm is now tested below in line with the Countdown rules. You can change the **numbers** values and **target** value to see different results."
   ]
  },
  {
   "cell_type": "code",
   "execution_count": null,
   "metadata": {},
   "outputs": [
    {
     "name": "stdout",
     "output_type": "stream",
     "text": [
      "Closest solution found: 3 * 10 * 25 - 1 - 7 + 50 = 792 (Difference: 27)\n"
     ]
    }
   ],
   "source": [
    "# Sample numbers and a target\n",
    "numbers = [1, 3, 7, 10, 25, 50]\n",
    "target = 765\n",
    "# Call the brute force function\n",
    "solution, difference = brute_force(numbers, target)\n",
    "print(f\"Closest solution found: {solution} = {eval(solution)} (Difference: {difference})\")"
   ]
  },
  {
   "cell_type": "markdown",
   "metadata": {},
   "source": [
    "#### **Relation to Reverse Polish Notation (RPN):**\n",
    "While the algorithm does not directly implement RPN, the method of constructing expressions from permutations of numbers and operations shares a similar logic. It simplifies the evaluation process by forming direct expressions that could easily be converted to RPN for more efficient computation. RPN would streamline the evaluation by removing the need for managing operator precedence and parentheses, which aligns with the straightforward calculation approach seen here in the above code.\n",
    "<br>\n",
    "<br>\n",
    "While implementing RPN in the brute force approach for the Countdown game might streamline the evaluation of expressions, it does not reduce the algorithm's overall complexity regarding the number of combinations. However, it could enhance performance by speeding up the computation time of each expression evaluation. This implementation would be especially beneficial in scenarios where the expression evaluation is a bottleneck.\n"
   ]
  },
  {
   "cell_type": "markdown",
   "metadata": {},
   "source": [
    "### **The Greedy Approach**\n",
    "A greedy algorithm is an approach that builds up a solution piece by piece, always choosing the next piece that offers the most immediate benefit. It makes the locally optimal choice at each stage with the hope of finding a global optimum."
   ]
  },
  {
   "cell_type": "markdown",
   "metadata": {},
   "source": [
    "<a id=\"references\"></a>\n",
    "\n",
    "## **References**\n",
    "\n",
    "<a id=\"ian-mcloughlin\"></a>\n",
    "*[1.0]*  - Atlantic Technological University. \"Reverse Polish Notation\". Atlantic Technological University, March 2024. \n",
    "\n",
    "https://ianmcloughlin.github.io/reverse_polish_notation/\n",
    "\n",
    "---"
   ]
  },
  {
   "cell_type": "markdown",
   "metadata": {},
   "source": []
  }
 ],
 "metadata": {
  "kernelspec": {
   "display_name": "Python 3",
   "language": "python",
   "name": "python3"
  },
  "language_info": {
   "codemirror_mode": {
    "name": "ipython",
    "version": 3
   },
   "file_extension": ".py",
   "mimetype": "text/x-python",
   "name": "python",
   "nbconvert_exporter": "python",
   "pygments_lexer": "ipython3",
   "version": "3.10.4"
  }
 },
 "nbformat": 4,
 "nbformat_minor": 2
}
