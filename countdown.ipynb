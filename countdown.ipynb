{
 "cells": [
  {
   "cell_type": "markdown",
   "metadata": {},
   "source": [
    "# **Solving Countdown: A Computational Theory Approach**\n",
    "### Computation Theory\n",
    "---\n",
    "\n",
    "##### Ryan Harte (G00338424)\n",
    "---"
   ]
  },
  {
   "cell_type": "markdown",
   "metadata": {},
   "source": [
    "## **Table of Contents**\n",
    "\n",
    "1. [Introduction](#intro)\n",
    "2. [Countdown - Game Rules](#countdown-game-rules)"
   ]
  },
  {
   "cell_type": "markdown",
   "metadata": {},
   "source": [
    "<a id=\"intro\"></a>\n",
    "## **Introduction** \n",
    "\n",
    "This project is centred around the application of Computational Theory to understand, examine and hopefully solve the numbers round of popular TV show, **Countdown**. The primary objective of this project is to demonstrate a deep understanding of computational problems in everyday computing. This will involve leveraging recognized models of computation. designing programs that incorporate various computational paradigms and analyzing the complexity of various algorithms. \n",
    "\n",
    "By focusing on the Countdown numbers game, this project aims to bridge the theoretical computational concepts with practical application, showcasing the ability to develop effective solutions to complex problems. \n",
    "\n",
    "#### **Project Objectives**\n",
    "1. **Identifying Complex Computational Problems:** Recognize the challenges presented by the Countdown numbers game as a computational problem.\n",
    "2. **Modeling Computation:** Apply common models of computation to design strategies for solving the Countdown number game.\n",
    "3. **Designing Solutions:** Develop a Python function to solve numbers, capable of finding solutions to the game's numbers round.\n",
    "4. **Analyzing Complexity:** Evaluate the algorithmic complexity of the proposed solution and discuss its efficiency and potential limitations.\n",
    "5. **Practical Application:** Demonstrate the practical application of computational theory concepts through coding and problem solving."
   ]
  },
  {
   "cell_type": "markdown",
   "metadata": {},
   "source": [
    "<a id=\"countdown-game-rules\"></a>\n",
    "## **Countdown**\n",
    "\n",
    "The Countdown numbers game is a segment of the Countdown TV show where contestants are challenged to reach a target number by mathematically combining six numbers together within 30 seconds.\n",
    "\n",
    "#### **Game Rules**\n",
    "1. **Number Selection:** Contestants are given six random numbers, chosen from two sets of integers: \n",
    "   - **Small Numbers:**  Two groups of the digits from 1 to 10.\n",
    "   - **Large Numbers:**  The numbers 25, 50, 75, and 100.\n",
    "2. **Target Number:** A random target number is generated at the start of the round, ranging from 101 to 999 (inclusive).\n",
    "3. **Time Limit:** Contestants have 30 seconds to use any combination of the six numbers to reach the target number.\n",
    "4. **Mathematic Operations:** Only the four basic arithmetic operations are allowed: Addition (+), Subtraction (-), Multiplication (×), and Division (÷).\n",
    "   - **Operation Rules:** Each of the six numbers can be used once, and operations can be repeated. Division must result in a whole number, and subtraction must result in a positive number.\n",
    "\n",
    "#### **Countdown Scoring**\n",
    "1. **Exact Match:** If a contestant creates a function to hit the target number, the score the maximum points for the round (10).\n",
    "2. **Close Match:** If the target number cannot be reached, points are awarded to the contestant(s) who created a function that brings their solution closest to the target number. (points awarded vary on the solution).\n",
    "3. **Tie Match:** If two or more contestants reach the same number target number or achieve the same closest possible solution, they each score the same number of points. (points awarded vary on the solution).\n",
    "4. **No Solution:** If a contestant cannot come close to the target number or uses invalid operations, they score no points for the round.\n",
    "5. **Winner Determination:** The contestant with the highest score at the end of the numbers round is declared the winner."
   ]
  },
  {
   "cell_type": "markdown",
   "metadata": {},
   "source": []
  },
  {
   "cell_type": "markdown",
   "metadata": {},
   "source": []
  }
 ],
 "metadata": {
  "language_info": {
   "name": "python"
  }
 },
 "nbformat": 4,
 "nbformat_minor": 2
}
