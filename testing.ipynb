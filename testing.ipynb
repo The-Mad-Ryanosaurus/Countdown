{
 "cells": [
  {
   "cell_type": "code",
   "execution_count": 13,
   "metadata": {},
   "outputs": [
    {
     "name": "stdout",
     "output_type": "stream",
     "text": [
      "Best solution found: 25 50 + = 75\n"
     ]
    }
   ],
   "source": [
    "from itertools import permutations, product, combinations\n",
    "\n",
    "def evaluate_rpn(expression):\n",
    "    \"\"\" Evaluate an RPN expression, avoiding illegal moves and ensuring all divisions yield integers. \"\"\"\n",
    "    stack = []\n",
    "    for token in expression:\n",
    "        if isinstance(token, str) and token in \"+-*/\":  # Ensure token is a string before checking if it's an operator\n",
    "            b = stack.pop()\n",
    "            a = stack.pop()\n",
    "            if token == '+':\n",
    "                stack.append(a + b)\n",
    "            elif token == '-':\n",
    "                stack.append(a - b)\n",
    "            elif token == '*':\n",
    "                stack.append(a * b)\n",
    "            elif token == '/':  # Ensure integer division and avoid division by zero\n",
    "                if b == 0 or a % b != 0:\n",
    "                    return None\n",
    "                stack.append(a // b)\n",
    "        else:\n",
    "            stack.append(token)\n",
    "    return stack[0]\n",
    "\n",
    "def generate_rpn_expressions(numbers):\n",
    "    \"\"\" Generate valid RPN expressions from number permutations and operator combinations \"\"\"\n",
    "    operators = ['+', '-', '*', '/']\n",
    "    for num_perm in permutations(numbers):\n",
    "        # Need len(numbers)-1 operators for len(numbers) numbers\n",
    "        for ops_perm in product(operators, repeat=len(numbers)-1):\n",
    "            # Build valid RPN expressions ensuring enough operands before operations\n",
    "            expression = []\n",
    "            num_queue = list(num_perm)\n",
    "            ops_queue = list(ops_perm)\n",
    "            \n",
    "            while num_queue:\n",
    "                expression.append(num_queue.pop(0))\n",
    "                # Try to add operators when valid to do so\n",
    "                while len(expression) > 1 and ops_queue and expression[-1] not in operators:\n",
    "                    expression.append(ops_queue.pop(0))\n",
    "            \n",
    "            if len(expression) == 2 * len(numbers) - 1:\n",
    "                yield expression\n",
    "\n",
    "def find_best_solution(numbers, target):\n",
    "    \"\"\" Find the expression that best approximates the target number \"\"\"\n",
    "    best_diff = float('inf')\n",
    "    best_expr = None\n",
    "    best_result = None  # Ensure a variable to hold the best result\n",
    "\n",
    "    # Check all subsets of numbers to not necessarily use all\n",
    "    for size in range(1, len(numbers) + 1):\n",
    "        for subset in combinations(numbers, size):\n",
    "            for expr in generate_rpn_expressions(subset):\n",
    "                result = evaluate_rpn(expr)\n",
    "                if result is not None:\n",
    "                    diff = abs(result - target)\n",
    "                    if diff < best_diff:\n",
    "                        best_diff = diff\n",
    "                        best_expr = expr\n",
    "                        best_result = result  # Update the best result here\n",
    "                        # Perfect match found, early exit\n",
    "                        if diff == 0:\n",
    "                            return (best_expr, best_result)\n",
    "    return (best_expr, best_result)  # Return the best result found or None if no valid expression was found\n",
    "\n",
    "# Input\n",
    "numbers = [25, 50, 4, 100, 3, 6]\n",
    "target = 75\n",
    "\n",
    "# Finding and displaying the best solution\n",
    "best_expr, best_result = find_best_solution(numbers, target)\n",
    "if best_expr:\n",
    "    print(\"Best solution found:\", ' '.join(map(str, best_expr)), \"=\", best_result)\n",
    "else:\n",
    "    print(\"No valid solutions found.\")"
   ]
  },
  {
   "cell_type": "code",
   "execution_count": null,
   "metadata": {},
   "outputs": [],
   "source": []
  }
 ],
 "metadata": {
  "kernelspec": {
   "display_name": "Python 3",
   "language": "python",
   "name": "python3"
  },
  "language_info": {
   "codemirror_mode": {
    "name": "ipython",
    "version": 3
   },
   "file_extension": ".py",
   "mimetype": "text/x-python",
   "name": "python",
   "nbconvert_exporter": "python",
   "pygments_lexer": "ipython3",
   "version": "3.10.4"
  }
 },
 "nbformat": 4,
 "nbformat_minor": 2
}
